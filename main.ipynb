{
 "cells": [
  {
   "cell_type": "markdown",
   "id": "ef2e87e6",
   "metadata": {},
   "source": [
    "# Main Code Space"
   ]
  },
  {
   "cell_type": "markdown",
   "id": "c923ed60",
   "metadata": {},
   "source": [
    "# 1. Data Loading"
   ]
  },
  {
   "cell_type": "code",
   "execution_count": 1,
   "id": "f1a15350",
   "metadata": {},
   "outputs": [
    {
     "name": "stdout",
     "output_type": "stream",
     "text": [
      "Total 4 files are now loaded...\n",
      "Total 98 trials are completely loaded !!\n",
      "Total 5 files are now loaded...\n",
      "Total 145 trials are completely loaded !!\n",
      "Total 5 files are now loaded...\n",
      "Total 200 trials are completely loaded !!\n",
      "Total trials: 443\n"
     ]
    }
   ],
   "source": [
    "from processing import *\n",
    "import matplotlib.pyplot as plt\n",
    "import numpy as np\n",
    "\n",
    "folder_paths = ['DataFile/data_250612', 'DataFile/data_250616', 'DataFile/data_250618']\n",
    "all_trials = []\n",
    "\n",
    "for folder_path in folder_paths:\n",
    "    trials = Load_files(folder_path, pattern='cropped_*.h5')\n",
    "    trials = [trial for trial in trials if 'test' not in trial['file']]     # Temporary remove Test set\n",
    "    all_trials.extend(trials)\n",
    "\n",
    "## Labeling ##\n",
    "for trial in all_trials:\n",
    "    trial['label'] = Generate_labels(trial)\n",
    "    Convert_labels_to_int(trial, phase_to_int)\n",
    "\n",
    "## EMG filtering ##\n",
    "all_trials = process_all_emg(all_trials, lpf_fc=3, norm_method='max')\n",
    "\n",
    "trial_num = len(all_trials)\n",
    "print(f\"Total trials: {trial_num}\")"
   ]
  },
  {
   "cell_type": "markdown",
   "id": "35430687",
   "metadata": {},
   "source": [
    "# IMU Quaternion Calibration"
   ]
  },
  {
   "cell_type": "code",
   "execution_count": null,
   "id": "e26fed69",
   "metadata": {},
   "outputs": [],
   "source": [
    "for trial in all_trials:\n",
    "    CalibrateIMU(trial)\n",
    "    # CalibrateIMU_2(trial)"
   ]
  },
  {
   "cell_type": "markdown",
   "id": "e341f48b",
   "metadata": {},
   "source": [
    "# IMU Visualization"
   ]
  },
  {
   "cell_type": "markdown",
   "id": "4d0eebcd",
   "metadata": {},
   "source": [
    "Single IMU Test"
   ]
  },
  {
   "cell_type": "code",
   "execution_count": 10,
   "id": "88db1b8e",
   "metadata": {},
   "outputs": [
    {
     "ename": "ValueError",
     "evalue": "x and y must have same first dimension, but have shapes (1, 1569) and (1569,)",
     "output_type": "error",
     "traceback": [
      "\u001b[31m---------------------------------------------------------------------------\u001b[39m",
      "\u001b[31mValueError\u001b[39m                                Traceback (most recent call last)",
      "\u001b[36mCell\u001b[39m\u001b[36m \u001b[39m\u001b[32mIn[10]\u001b[39m\u001b[32m, line 4\u001b[39m\n\u001b[32m      1\u001b[39m idx = \u001b[32m300\u001b[39m    \u001b[38;5;66;03m# Choose\u001b[39;00m\n\u001b[32m      3\u001b[39m plt.figure(figsize=(\u001b[32m8\u001b[39m, \u001b[32m12\u001b[39m))\n\u001b[32m----> \u001b[39m\u001b[32m4\u001b[39m \u001b[43mplt\u001b[49m\u001b[43m.\u001b[49m\u001b[43mplot\u001b[49m\u001b[43m(\u001b[49m\u001b[43mall_trials\u001b[49m\u001b[43m[\u001b[49m\u001b[43midx\u001b[49m\u001b[43m]\u001b[49m\u001b[43m[\u001b[49m\u001b[33;43m'\u001b[39;49m\u001b[33;43mtime\u001b[39;49m\u001b[33;43m'\u001b[39;49m\u001b[43m]\u001b[49m\u001b[43m,\u001b[49m\u001b[43m \u001b[49m\u001b[43mall_trials\u001b[49m\u001b[43m[\u001b[49m\u001b[43midx\u001b[49m\u001b[43m]\u001b[49m\u001b[43m[\u001b[49m\u001b[33;43m'\u001b[39;49m\u001b[33;43mimu1\u001b[39;49m\u001b[33;43m'\u001b[39;49m\u001b[43m]\u001b[49m\u001b[43m[\u001b[49m\u001b[43m:\u001b[49m\u001b[43m,\u001b[49m\u001b[43m \u001b[49m\u001b[32;43m0\u001b[39;49m\u001b[43m]\u001b[49m\u001b[43m,\u001b[49m\u001b[43m \u001b[49m\u001b[43mlabel\u001b[49m\u001b[43m=\u001b[49m\u001b[33;43m'\u001b[39;49m\u001b[33;43mw\u001b[39;49m\u001b[33;43m'\u001b[39;49m\u001b[43m)\u001b[49m\n\u001b[32m      5\u001b[39m plt.plot(all_trials[idx][\u001b[33m'\u001b[39m\u001b[33mtime\u001b[39m\u001b[33m'\u001b[39m], all_trials[idx][\u001b[33m'\u001b[39m\u001b[33mimu1\u001b[39m\u001b[33m'\u001b[39m][:, \u001b[32m1\u001b[39m], label=\u001b[33m'\u001b[39m\u001b[33mx\u001b[39m\u001b[33m'\u001b[39m)\n\u001b[32m      6\u001b[39m plt.plot(all_trials[idx][\u001b[33m'\u001b[39m\u001b[33mtime\u001b[39m\u001b[33m'\u001b[39m], all_trials[idx][\u001b[33m'\u001b[39m\u001b[33mimu1\u001b[39m\u001b[33m'\u001b[39m][:, \u001b[32m2\u001b[39m], label=\u001b[33m'\u001b[39m\u001b[33my\u001b[39m\u001b[33m'\u001b[39m)\n",
      "\u001b[36mFile \u001b[39m\u001b[32mc:\\MinGW\\Python_files\\Lib\\site-packages\\matplotlib\\pyplot.py:3575\u001b[39m, in \u001b[36mplot\u001b[39m\u001b[34m(scalex, scaley, data, *args, **kwargs)\u001b[39m\n\u001b[32m   3567\u001b[39m \u001b[38;5;129m@_copy_docstring_and_deprecators\u001b[39m(Axes.plot)\n\u001b[32m   3568\u001b[39m \u001b[38;5;28;01mdef\u001b[39;00m\u001b[38;5;250m \u001b[39m\u001b[34mplot\u001b[39m(\n\u001b[32m   3569\u001b[39m     *args: \u001b[38;5;28mfloat\u001b[39m | ArrayLike | \u001b[38;5;28mstr\u001b[39m,\n\u001b[32m   (...)\u001b[39m\u001b[32m   3573\u001b[39m     **kwargs,\n\u001b[32m   3574\u001b[39m ) -> \u001b[38;5;28mlist\u001b[39m[Line2D]:\n\u001b[32m-> \u001b[39m\u001b[32m3575\u001b[39m     \u001b[38;5;28;01mreturn\u001b[39;00m \u001b[43mgca\u001b[49m\u001b[43m(\u001b[49m\u001b[43m)\u001b[49m\u001b[43m.\u001b[49m\u001b[43mplot\u001b[49m\u001b[43m(\u001b[49m\n\u001b[32m   3576\u001b[39m \u001b[43m        \u001b[49m\u001b[43m*\u001b[49m\u001b[43margs\u001b[49m\u001b[43m,\u001b[49m\n\u001b[32m   3577\u001b[39m \u001b[43m        \u001b[49m\u001b[43mscalex\u001b[49m\u001b[43m=\u001b[49m\u001b[43mscalex\u001b[49m\u001b[43m,\u001b[49m\n\u001b[32m   3578\u001b[39m \u001b[43m        \u001b[49m\u001b[43mscaley\u001b[49m\u001b[43m=\u001b[49m\u001b[43mscaley\u001b[49m\u001b[43m,\u001b[49m\n\u001b[32m   3579\u001b[39m \u001b[43m        \u001b[49m\u001b[43m*\u001b[49m\u001b[43m*\u001b[49m\u001b[43m(\u001b[49m\u001b[43m{\u001b[49m\u001b[33;43m\"\u001b[39;49m\u001b[33;43mdata\u001b[39;49m\u001b[33;43m\"\u001b[39;49m\u001b[43m:\u001b[49m\u001b[43m \u001b[49m\u001b[43mdata\u001b[49m\u001b[43m}\u001b[49m\u001b[43m \u001b[49m\u001b[38;5;28;43;01mif\u001b[39;49;00m\u001b[43m \u001b[49m\u001b[43mdata\u001b[49m\u001b[43m \u001b[49m\u001b[38;5;129;43;01mis\u001b[39;49;00m\u001b[43m \u001b[49m\u001b[38;5;129;43;01mnot\u001b[39;49;00m\u001b[43m \u001b[49m\u001b[38;5;28;43;01mNone\u001b[39;49;00m\u001b[43m \u001b[49m\u001b[38;5;28;43;01melse\u001b[39;49;00m\u001b[43m \u001b[49m\u001b[43m{\u001b[49m\u001b[43m}\u001b[49m\u001b[43m)\u001b[49m\u001b[43m,\u001b[49m\n\u001b[32m   3580\u001b[39m \u001b[43m        \u001b[49m\u001b[43m*\u001b[49m\u001b[43m*\u001b[49m\u001b[43mkwargs\u001b[49m\u001b[43m,\u001b[49m\n\u001b[32m   3581\u001b[39m \u001b[43m    \u001b[49m\u001b[43m)\u001b[49m\n",
      "\u001b[36mFile \u001b[39m\u001b[32mc:\\MinGW\\Python_files\\Lib\\site-packages\\matplotlib\\axes\\_axes.py:1721\u001b[39m, in \u001b[36mAxes.plot\u001b[39m\u001b[34m(self, scalex, scaley, data, *args, **kwargs)\u001b[39m\n\u001b[32m   1478\u001b[39m \u001b[38;5;250m\u001b[39m\u001b[33;03m\"\"\"\u001b[39;00m\n\u001b[32m   1479\u001b[39m \u001b[33;03mPlot y versus x as lines and/or markers.\u001b[39;00m\n\u001b[32m   1480\u001b[39m \n\u001b[32m   (...)\u001b[39m\u001b[32m   1718\u001b[39m \u001b[33;03m(``'green'``) or hex strings (``'#008000'``).\u001b[39;00m\n\u001b[32m   1719\u001b[39m \u001b[33;03m\"\"\"\u001b[39;00m\n\u001b[32m   1720\u001b[39m kwargs = cbook.normalize_kwargs(kwargs, mlines.Line2D)\n\u001b[32m-> \u001b[39m\u001b[32m1721\u001b[39m lines = [*\u001b[38;5;28mself\u001b[39m._get_lines(\u001b[38;5;28mself\u001b[39m, *args, data=data, **kwargs)]\n\u001b[32m   1722\u001b[39m \u001b[38;5;28;01mfor\u001b[39;00m line \u001b[38;5;129;01min\u001b[39;00m lines:\n\u001b[32m   1723\u001b[39m     \u001b[38;5;28mself\u001b[39m.add_line(line)\n",
      "\u001b[36mFile \u001b[39m\u001b[32mc:\\MinGW\\Python_files\\Lib\\site-packages\\matplotlib\\axes\\_base.py:303\u001b[39m, in \u001b[36m_process_plot_var_args.__call__\u001b[39m\u001b[34m(self, axes, data, *args, **kwargs)\u001b[39m\n\u001b[32m    301\u001b[39m     this += args[\u001b[32m0\u001b[39m],\n\u001b[32m    302\u001b[39m     args = args[\u001b[32m1\u001b[39m:]\n\u001b[32m--> \u001b[39m\u001b[32m303\u001b[39m \u001b[38;5;28;01myield from\u001b[39;00m \u001b[38;5;28;43mself\u001b[39;49m\u001b[43m.\u001b[49m\u001b[43m_plot_args\u001b[49m\u001b[43m(\u001b[49m\n\u001b[32m    304\u001b[39m \u001b[43m    \u001b[49m\u001b[43maxes\u001b[49m\u001b[43m,\u001b[49m\u001b[43m \u001b[49m\u001b[43mthis\u001b[49m\u001b[43m,\u001b[49m\u001b[43m \u001b[49m\u001b[43mkwargs\u001b[49m\u001b[43m,\u001b[49m\u001b[43m \u001b[49m\u001b[43mambiguous_fmt_datakey\u001b[49m\u001b[43m=\u001b[49m\u001b[43mambiguous_fmt_datakey\u001b[49m\u001b[43m)\u001b[49m\n",
      "\u001b[36mFile \u001b[39m\u001b[32mc:\\MinGW\\Python_files\\Lib\\site-packages\\matplotlib\\axes\\_base.py:499\u001b[39m, in \u001b[36m_process_plot_var_args._plot_args\u001b[39m\u001b[34m(self, axes, tup, kwargs, return_kwargs, ambiguous_fmt_datakey)\u001b[39m\n\u001b[32m    496\u001b[39m     axes.yaxis.update_units(y)\n\u001b[32m    498\u001b[39m \u001b[38;5;28;01mif\u001b[39;00m x.shape[\u001b[32m0\u001b[39m] != y.shape[\u001b[32m0\u001b[39m]:\n\u001b[32m--> \u001b[39m\u001b[32m499\u001b[39m     \u001b[38;5;28;01mraise\u001b[39;00m \u001b[38;5;167;01mValueError\u001b[39;00m(\u001b[33mf\u001b[39m\u001b[33m\"\u001b[39m\u001b[33mx and y must have same first dimension, but \u001b[39m\u001b[33m\"\u001b[39m\n\u001b[32m    500\u001b[39m                      \u001b[33mf\u001b[39m\u001b[33m\"\u001b[39m\u001b[33mhave shapes \u001b[39m\u001b[38;5;132;01m{\u001b[39;00mx.shape\u001b[38;5;132;01m}\u001b[39;00m\u001b[33m and \u001b[39m\u001b[38;5;132;01m{\u001b[39;00my.shape\u001b[38;5;132;01m}\u001b[39;00m\u001b[33m\"\u001b[39m)\n\u001b[32m    501\u001b[39m \u001b[38;5;28;01mif\u001b[39;00m x.ndim > \u001b[32m2\u001b[39m \u001b[38;5;129;01mor\u001b[39;00m y.ndim > \u001b[32m2\u001b[39m:\n\u001b[32m    502\u001b[39m     \u001b[38;5;28;01mraise\u001b[39;00m \u001b[38;5;167;01mValueError\u001b[39;00m(\u001b[33mf\u001b[39m\u001b[33m\"\u001b[39m\u001b[33mx and y can be no greater than 2D, but have \u001b[39m\u001b[33m\"\u001b[39m\n\u001b[32m    503\u001b[39m                      \u001b[33mf\u001b[39m\u001b[33m\"\u001b[39m\u001b[33mshapes \u001b[39m\u001b[38;5;132;01m{\u001b[39;00mx.shape\u001b[38;5;132;01m}\u001b[39;00m\u001b[33m and \u001b[39m\u001b[38;5;132;01m{\u001b[39;00my.shape\u001b[38;5;132;01m}\u001b[39;00m\u001b[33m\"\u001b[39m)\n",
      "\u001b[31mValueError\u001b[39m: x and y must have same first dimension, but have shapes (1, 1569) and (1569,)"
     ]
    },
    {
     "data": {
      "image/png": "[encoded data removed]",
      "text/plain": [
       "<Figure size 800x1200 with 1 Axes>"
      ]
     },
     "metadata": {},
     "output_type": "display_data"
    }
   ],
   "source": [
    "idx = 300    # Choose\n",
    "\n",
    "plt.figure(figsize=(8, 12))\n",
    "plt.plot(all_trials[idx]['time'], all_trials[idx]['imu1'][:, 0], label='w')\n",
    "plt.plot(all_trials[idx]['time'], all_trials[idx]['imu1'][:, 1], label='x')\n",
    "plt.plot(all_trials[idx]['time'], all_trials[idx]['imu1'][:, 2], label='y')\n",
    "plt.plot(all_trials[idx]['time'], all_trials[idx]['imu1'][:, 3], label='z')\n",
    "plt.legend()\n",
    "plt.grid(True)"
   ]
  },
  {
   "cell_type": "markdown",
   "id": "baa9844e",
   "metadata": {},
   "source": [
    "Total IMU"
   ]
  },
  {
   "cell_type": "code",
   "execution_count": null,
   "id": "16e0ac3e",
   "metadata": {},
   "outputs": [
    {
     "ename": "ValueError",
     "evalue": "x and y must have same first dimension, but have shapes (1, 1569) and (1569,)",
     "output_type": "error",
     "traceback": [
      "\u001b[31m---------------------------------------------------------------------------\u001b[39m",
      "\u001b[31mValueError\u001b[39m                                Traceback (most recent call last)",
      "\u001b[36mCell\u001b[39m\u001b[36m \u001b[39m\u001b[32mIn[17]\u001b[39m\u001b[32m, line 4\u001b[39m\n\u001b[32m      1\u001b[39m plt.figure(figsize=(\u001b[32m16\u001b[39m,\u001b[32m20\u001b[39m))\n\u001b[32m      3\u001b[39m plt.subplot(\u001b[32m5\u001b[39m, \u001b[32m2\u001b[39m, \u001b[32m1\u001b[39m)\n\u001b[32m----> \u001b[39m\u001b[32m4\u001b[39m \u001b[43mplt\u001b[49m\u001b[43m.\u001b[49m\u001b[43mplot\u001b[49m\u001b[43m(\u001b[49m\u001b[43mall_trials\u001b[49m\u001b[43m[\u001b[49m\u001b[43midx\u001b[49m\u001b[43m]\u001b[49m\u001b[43m[\u001b[49m\u001b[33;43m'\u001b[39;49m\u001b[33;43mtime\u001b[39;49m\u001b[33;43m'\u001b[39;49m\u001b[43m]\u001b[49m\u001b[43m,\u001b[49m\u001b[43m \u001b[49m\u001b[43mall_trials\u001b[49m\u001b[43m[\u001b[49m\u001b[43midx\u001b[49m\u001b[43m]\u001b[49m\u001b[43m[\u001b[49m\u001b[33;43m'\u001b[39;49m\u001b[33;43mimu1\u001b[39;49m\u001b[33;43m'\u001b[39;49m\u001b[43m]\u001b[49m\u001b[43m[\u001b[49m\u001b[43m:\u001b[49m\u001b[43m,\u001b[49m\u001b[43m \u001b[49m\u001b[32;43m0\u001b[39;49m\u001b[43m]\u001b[49m\u001b[43m,\u001b[49m\u001b[43m \u001b[49m\u001b[43mlabel\u001b[49m\u001b[43m=\u001b[49m\u001b[33;43m'\u001b[39;49m\u001b[33;43mw\u001b[39;49m\u001b[33;43m'\u001b[39;49m\u001b[43m)\u001b[49m\n\u001b[32m      5\u001b[39m plt.plot(all_trials[idx][\u001b[33m'\u001b[39m\u001b[33mtime\u001b[39m\u001b[33m'\u001b[39m], all_trials[idx][\u001b[33m'\u001b[39m\u001b[33mimu1\u001b[39m\u001b[33m'\u001b[39m][:, \u001b[32m1\u001b[39m], label=\u001b[33m'\u001b[39m\u001b[33mx\u001b[39m\u001b[33m'\u001b[39m)\n\u001b[32m      6\u001b[39m plt.plot(all_trials[idx][\u001b[33m'\u001b[39m\u001b[33mtime\u001b[39m\u001b[33m'\u001b[39m], all_trials[idx][\u001b[33m'\u001b[39m\u001b[33mimu1\u001b[39m\u001b[33m'\u001b[39m][:, \u001b[32m2\u001b[39m], label=\u001b[33m'\u001b[39m\u001b[33my\u001b[39m\u001b[33m'\u001b[39m)\n",
      "\u001b[36mFile \u001b[39m\u001b[32mc:\\MinGW\\Python_files\\Lib\\site-packages\\matplotlib\\pyplot.py:3575\u001b[39m, in \u001b[36mplot\u001b[39m\u001b[34m(scalex, scaley, data, *args, **kwargs)\u001b[39m\n\u001b[32m   3567\u001b[39m \u001b[38;5;129m@_copy_docstring_and_deprecators\u001b[39m(Axes.plot)\n\u001b[32m   3568\u001b[39m \u001b[38;5;28;01mdef\u001b[39;00m\u001b[38;5;250m \u001b[39m\u001b[34mplot\u001b[39m(\n\u001b[32m   3569\u001b[39m     *args: \u001b[38;5;28mfloat\u001b[39m | ArrayLike | \u001b[38;5;28mstr\u001b[39m,\n\u001b[32m   (...)\u001b[39m\u001b[32m   3573\u001b[39m     **kwargs,\n\u001b[32m   3574\u001b[39m ) -> \u001b[38;5;28mlist\u001b[39m[Line2D]:\n\u001b[32m-> \u001b[39m\u001b[32m3575\u001b[39m     \u001b[38;5;28;01mreturn\u001b[39;00m \u001b[43mgca\u001b[49m\u001b[43m(\u001b[49m\u001b[43m)\u001b[49m\u001b[43m.\u001b[49m\u001b[43mplot\u001b[49m\u001b[43m(\u001b[49m\n\u001b[32m   3576\u001b[39m \u001b[43m        \u001b[49m\u001b[43m*\u001b[49m\u001b[43margs\u001b[49m\u001b[43m,\u001b[49m\n\u001b[32m   3577\u001b[39m \u001b[43m        \u001b[49m\u001b[43mscalex\u001b[49m\u001b[43m=\u001b[49m\u001b[43mscalex\u001b[49m\u001b[43m,\u001b[49m\n\u001b[32m   3578\u001b[39m \u001b[43m        \u001b[49m\u001b[43mscaley\u001b[49m\u001b[43m=\u001b[49m\u001b[43mscaley\u001b[49m\u001b[43m,\u001b[49m\n\u001b[32m   3579\u001b[39m \u001b[43m        \u001b[49m\u001b[43m*\u001b[49m\u001b[43m*\u001b[49m\u001b[43m(\u001b[49m\u001b[43m{\u001b[49m\u001b[33;43m\"\u001b[39;49m\u001b[33;43mdata\u001b[39;49m\u001b[33;43m\"\u001b[39;49m\u001b[43m:\u001b[49m\u001b[43m \u001b[49m\u001b[43mdata\u001b[49m\u001b[43m}\u001b[49m\u001b[43m \u001b[49m\u001b[38;5;28;43;01mif\u001b[39;49;00m\u001b[43m \u001b[49m\u001b[43mdata\u001b[49m\u001b[43m \u001b[49m\u001b[38;5;129;43;01mis\u001b[39;49;00m\u001b[43m \u001b[49m\u001b[38;5;129;43;01mnot\u001b[39;49;00m\u001b[43m \u001b[49m\u001b[38;5;28;43;01mNone\u001b[39;49;00m\u001b[43m \u001b[49m\u001b[38;5;28;43;01melse\u001b[39;49;00m\u001b[43m \u001b[49m\u001b[43m{\u001b[49m\u001b[43m}\u001b[49m\u001b[43m)\u001b[49m\u001b[43m,\u001b[49m\n\u001b[32m   3580\u001b[39m \u001b[43m        \u001b[49m\u001b[43m*\u001b[49m\u001b[43m*\u001b[49m\u001b[43mkwargs\u001b[49m\u001b[43m,\u001b[49m\n\u001b[32m   3581\u001b[39m \u001b[43m    \u001b[49m\u001b[43m)\u001b[49m\n",
      "\u001b[36mFile \u001b[39m\u001b[32mc:\\MinGW\\Python_files\\Lib\\site-packages\\matplotlib\\axes\\_axes.py:1721\u001b[39m, in \u001b[36mAxes.plot\u001b[39m\u001b[34m(self, scalex, scaley, data, *args, **kwargs)\u001b[39m\n\u001b[32m   1478\u001b[39m \u001b[38;5;250m\u001b[39m\u001b[33;03m\"\"\"\u001b[39;00m\n\u001b[32m   1479\u001b[39m \u001b[33;03mPlot y versus x as lines and/or markers.\u001b[39;00m\n\u001b[32m   1480\u001b[39m \n\u001b[32m   (...)\u001b[39m\u001b[32m   1718\u001b[39m \u001b[33;03m(``'green'``) or hex strings (``'#008000'``).\u001b[39;00m\n\u001b[32m   1719\u001b[39m \u001b[33;03m\"\"\"\u001b[39;00m\n\u001b[32m   1720\u001b[39m kwargs = cbook.normalize_kwargs(kwargs, mlines.Line2D)\n\u001b[32m-> \u001b[39m\u001b[32m1721\u001b[39m lines = [*\u001b[38;5;28mself\u001b[39m._get_lines(\u001b[38;5;28mself\u001b[39m, *args, data=data, **kwargs)]\n\u001b[32m   1722\u001b[39m \u001b[38;5;28;01mfor\u001b[39;00m line \u001b[38;5;129;01min\u001b[39;00m lines:\n\u001b[32m   1723\u001b[39m     \u001b[38;5;28mself\u001b[39m.add_line(line)\n",
      "\u001b[36mFile \u001b[39m\u001b[32mc:\\MinGW\\Python_files\\Lib\\site-packages\\matplotlib\\axes\\_base.py:303\u001b[39m, in \u001b[36m_process_plot_var_args.__call__\u001b[39m\u001b[34m(self, axes, data, *args, **kwargs)\u001b[39m\n\u001b[32m    301\u001b[39m     this += args[\u001b[32m0\u001b[39m],\n\u001b[32m    302\u001b[39m     args = args[\u001b[32m1\u001b[39m:]\n\u001b[32m--> \u001b[39m\u001b[32m303\u001b[39m \u001b[38;5;28;01myield from\u001b[39;00m \u001b[38;5;28;43mself\u001b[39;49m\u001b[43m.\u001b[49m\u001b[43m_plot_args\u001b[49m\u001b[43m(\u001b[49m\n\u001b[32m    304\u001b[39m \u001b[43m    \u001b[49m\u001b[43maxes\u001b[49m\u001b[43m,\u001b[49m\u001b[43m \u001b[49m\u001b[43mthis\u001b[49m\u001b[43m,\u001b[49m\u001b[43m \u001b[49m\u001b[43mkwargs\u001b[49m\u001b[43m,\u001b[49m\u001b[43m \u001b[49m\u001b[43mambiguous_fmt_datakey\u001b[49m\u001b[43m=\u001b[49m\u001b[43mambiguous_fmt_datakey\u001b[49m\u001b[43m)\u001b[49m\n",
      "\u001b[36mFile \u001b[39m\u001b[32mc:\\MinGW\\Python_files\\Lib\\site-packages\\matplotlib\\axes\\_base.py:499\u001b[39m, in \u001b[36m_process_plot_var_args._plot_args\u001b[39m\u001b[34m(self, axes, tup, kwargs, return_kwargs, ambiguous_fmt_datakey)\u001b[39m\n\u001b[32m    496\u001b[39m     axes.yaxis.update_units(y)\n\u001b[32m    498\u001b[39m \u001b[38;5;28;01mif\u001b[39;00m x.shape[\u001b[32m0\u001b[39m] != y.shape[\u001b[32m0\u001b[39m]:\n\u001b[32m--> \u001b[39m\u001b[32m499\u001b[39m     \u001b[38;5;28;01mraise\u001b[39;00m \u001b[38;5;167;01mValueError\u001b[39;00m(\u001b[33mf\u001b[39m\u001b[33m\"\u001b[39m\u001b[33mx and y must have same first dimension, but \u001b[39m\u001b[33m\"\u001b[39m\n\u001b[32m    500\u001b[39m                      \u001b[33mf\u001b[39m\u001b[33m\"\u001b[39m\u001b[33mhave shapes \u001b[39m\u001b[38;5;132;01m{\u001b[39;00mx.shape\u001b[38;5;132;01m}\u001b[39;00m\u001b[33m and \u001b[39m\u001b[38;5;132;01m{\u001b[39;00my.shape\u001b[38;5;132;01m}\u001b[39;00m\u001b[33m\"\u001b[39m)\n\u001b[32m    501\u001b[39m \u001b[38;5;28;01mif\u001b[39;00m x.ndim > \u001b[32m2\u001b[39m \u001b[38;5;129;01mor\u001b[39;00m y.ndim > \u001b[32m2\u001b[39m:\n\u001b[32m    502\u001b[39m     \u001b[38;5;28;01mraise\u001b[39;00m \u001b[38;5;167;01mValueError\u001b[39;00m(\u001b[33mf\u001b[39m\u001b[33m\"\u001b[39m\u001b[33mx and y can be no greater than 2D, but have \u001b[39m\u001b[33m\"\u001b[39m\n\u001b[32m    503\u001b[39m                      \u001b[33mf\u001b[39m\u001b[33m\"\u001b[39m\u001b[33mshapes \u001b[39m\u001b[38;5;132;01m{\u001b[39;00mx.shape\u001b[38;5;132;01m}\u001b[39;00m\u001b[33m and \u001b[39m\u001b[38;5;132;01m{\u001b[39;00my.shape\u001b[38;5;132;01m}\u001b[39;00m\u001b[33m\"\u001b[39m)\n",
      "\u001b[31mValueError\u001b[39m: x and y must have same first dimension, but have shapes (1, 1569) and (1569,)"
     ]
    },
    {
     "data": {
      "image/png": "[encoded data removed]",
      "text/plain": [
       "<Figure size 1600x2000 with 1 Axes>"
      ]
     },
     "metadata": {},
     "output_type": "display_data"
    }
   ],
   "source": [
    "# plt.figure(figsize=(16,20))\n",
    "\n",
    "# plt.subplot(5, 2, 1)\n",
    "# plt.plot(all_trials[idx]['time'], all_trials[idx]['imu1'][:, 0], label='w')\n",
    "# plt.plot(all_trials[idx]['time'], all_trials[idx]['imu1'][:, 1], label='x')\n",
    "# plt.plot(all_trials[idx]['time'], all_trials[idx]['imu1'][:, 2], label='y')\n",
    "# plt.plot(all_trials[idx]['time'], all_trials[idx]['imu1'][:, 3], label='z')\n",
    "# plt.title(f\"{all_trials[idx]['file']} - {all_trials[idx]['trial']} [RH]\")\n",
    "# plt.legend()\n",
    "# plt.grid(True)\n",
    "\n",
    "# plt.subplot(5, 2, 2)\n",
    "# plt.plot(all_trials[idx]['time'], all_trials[idx]['imu2'][:, 0], label='w')\n",
    "# plt.plot(all_trials[idx]['time'], all_trials[idx]['imu2'][:, 1], label='x')\n",
    "# plt.plot(all_trials[idx]['time'], all_trials[idx]['imu2'][:, 2], label='y')\n",
    "# plt.plot(all_trials[idx]['time'], all_trials[idx]['imu2'][:, 3], label='z')\n",
    "# plt.title(\"[RK]\")\n",
    "# plt.legend()\n",
    "# plt.grid(True)\n",
    "\n",
    "# plt.subplot(5, 2, 3)\n",
    "# plt.plot(all_trials[idx]['time'], all_trials[idx]['imu3'][:, 0], label='w')\n",
    "# plt.plot(all_trials[idx]['time'], all_trials[idx]['imu3'][:, 1], label='x')\n",
    "# plt.plot(all_trials[idx]['time'], all_trials[idx]['imu3'][:, 2], label='y')\n",
    "# plt.plot(all_trials[idx]['time'], all_trials[idx]['imu3'][:, 3], label='z')\n",
    "# plt.title(\"[LH]\")\n",
    "# plt.legend()\n",
    "# plt.grid(True)\n",
    "\n",
    "# plt.subplot(5, 2, 4)\n",
    "# plt.plot(all_trials[idx]['time'], all_trials[idx]['imu4'][:, 0], label='w')\n",
    "# plt.plot(all_trials[idx]['time'], all_trials[idx]['imu4'][:, 1], label='x')\n",
    "# plt.plot(all_trials[idx]['time'], all_trials[idx]['imu4'][:, 2], label='y')\n",
    "# plt.plot(all_trials[idx]['time'], all_trials[idx]['imu4'][:, 3], label='z')\n",
    "# plt.title(\"[LK]\")\n",
    "# plt.legend()\n",
    "# plt.grid(True)\n",
    "\n",
    "# plt.subplot(5, 2, 5)\n",
    "# plt.plot(all_trials[idx]['time'], all_trials[idx]['imu5'][:, 0], label='w')\n",
    "# plt.plot(all_trials[idx]['time'], all_trials[idx]['imu5'][:, 1], label='x')\n",
    "# plt.plot(all_trials[idx]['time'], all_trials[idx]['imu5'][:, 2], label='y')\n",
    "# plt.plot(all_trials[idx]['time'], all_trials[idx]['imu5'][:, 3], label='z')\n",
    "# plt.title(\"[Pelvis]\")\n",
    "# plt.legend()\n",
    "# plt.grid(True)\n",
    "\n",
    "# plt.subplot(5, 2, 6)\n",
    "# plt.plot(all_trials[idx]['time'], all_trials[idx]['imu6'][:, 0], label='w')\n",
    "# plt.plot(all_trials[idx]['time'], all_trials[idx]['imu6'][:, 1], label='x')\n",
    "# plt.plot(all_trials[idx]['time'], all_trials[idx]['imu6'][:, 2], label='y')\n",
    "# plt.plot(all_trials[idx]['time'], all_trials[idx]['imu6'][:, 3], label='z')\n",
    "# plt.title(\"[Trunk]\")\n",
    "# plt.legend()\n",
    "# plt.grid(True)\n",
    "\n",
    "# plt.subplot(5, 2, 7)\n",
    "# plt.plot(all_trials[idx]['time'], all_trials[idx]['imu7'][:, 0], label='w')\n",
    "# plt.plot(all_trials[idx]['time'], all_trials[idx]['imu7'][:, 1], label='x')\n",
    "# plt.plot(all_trials[idx]['time'], all_trials[idx]['imu7'][:, 2], label='y')\n",
    "# plt.plot(all_trials[idx]['time'], all_trials[idx]['imu7'][:, 3], label='z')\n",
    "# plt.title(\"[RS]\")\n",
    "# plt.legend()\n",
    "# plt.grid(True)\n",
    "\n",
    "# plt.subplot(5, 2, 8)\n",
    "# plt.plot(all_trials[idx]['time'], all_trials[idx]['imu8'][:, 0], label='w')\n",
    "# plt.plot(all_trials[idx]['time'], all_trials[idx]['imu8'][:, 1], label='x')\n",
    "# plt.plot(all_trials[idx]['time'], all_trials[idx]['imu8'][:, 2], label='y')\n",
    "# plt.plot(all_trials[idx]['time'], all_trials[idx]['imu8'][:, 3], label='z')\n",
    "# plt.title(\"[RE]\")\n",
    "# plt.legend()\n",
    "# plt.grid(True)\n",
    "\n",
    "# plt.subplot(5, 2, 9)\n",
    "# plt.plot(all_trials[idx]['time'], all_trials[idx]['imu9'][:, 0], label='w')\n",
    "# plt.plot(all_trials[idx]['time'], all_trials[idx]['imu9'][:, 1], label='x')\n",
    "# plt.plot(all_trials[idx]['time'], all_trials[idx]['imu9'][:, 2], label='y')\n",
    "# plt.plot(all_trials[idx]['time'], all_trials[idx]['imu9'][:, 3], label='z')\n",
    "# plt.title(\"[LS]\")\n",
    "# plt.legend()\n",
    "# plt.grid(True)\n",
    "\n",
    "# plt.subplot(5, 2, 10)\n",
    "# plt.plot(all_trials[idx]['time'], all_trials[idx]['imu10'][:, 0], label='w')\n",
    "# plt.plot(all_trials[idx]['time'], all_trials[idx]['imu10'][:, 1], label='x')\n",
    "# plt.plot(all_trials[idx]['time'], all_trials[idx]['imu10'][:, 2], label='y')\n",
    "# plt.plot(all_trials[idx]['time'], all_trials[idx]['imu10'][:, 3], label='z')\n",
    "# plt.title(\"[LE]\")\n",
    "# plt.legend()\n",
    "# plt.grid(True)\n",
    "\n",
    "# plt.show()"
   ]
  }
 ],
 "metadata": {
  "language_info": {
   "name": "python"
  }
 },
 "nbformat": 4,
 "nbformat_minor": 5
}
