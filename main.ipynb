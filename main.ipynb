{
 "cells": [
  {
   "cell_type": "markdown",
   "id": "ef2e87e6",
   "metadata": {},
   "source": [
    "# Main Code Space"
   ]
  },
  {
   "cell_type": "markdown",
   "id": "c923ed60",
   "metadata": {},
   "source": [
    "# 1. Data Loading"
   ]
  },
  {
   "cell_type": "code",
   "execution_count": 5,
   "id": "f1a15350",
   "metadata": {},
   "outputs": [
    {
     "name": "stdout",
     "output_type": "stream",
     "text": [
      "Total 4 files are now loaded...\n",
      "Total 98 trials are completely loaded !!\n",
      "Total 5 files are now loaded...\n",
      "Total 145 trials are completely loaded !!\n",
      "Total 5 files are now loaded...\n",
      "Total 200 trials are completely loaded !!\n",
      "Total trials: 443\n"
     ]
    }
   ],
   "source": [
    "from processing import *\n",
    "import matplotlib.pyplot as plt\n",
    "import numpy as np\n",
    "\n",
    "folder_paths = ['DataFile/data_250612', 'DataFile/data_250616', 'DataFile/data_250618']\n",
    "all_trials = []\n",
    "\n",
    "for folder_path in folder_paths:\n",
    "    trials = Load_files(folder_path, pattern='cropped_*.h5')\n",
    "    trials = [trial for trial in trials if 'test' not in trial['file']]     # Temporary remove Test set\n",
    "    all_trials.extend(trials)\n",
    "\n",
    "trial_num = len(all_trials)\n",
    "print(f\"Total trials: {trial_num}\")"
   ]
  }
 ],
 "metadata": {
  "language_info": {
   "name": "python"
  }
 },
 "nbformat": 4,
 "nbformat_minor": 5
}
