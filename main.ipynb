{
 "cells": [
  {
   "cell_type": "markdown",
   "id": "ef2e87e6",
   "metadata": {},
   "source": [
    "# Main Code Space"
   ]
  },
  {
   "cell_type": "markdown",
   "id": "c923ed60",
   "metadata": {},
   "source": [
    "# 1. Data Loading"
   ]
  },
  {
   "cell_type": "code",
   "execution_count": null,
   "id": "f1a15350",
   "metadata": {},
   "outputs": [],
   "source": [
    "from functions_new import *\n",
    "import matplotlib.pyplot as plt\n",
    "import numpy as np\n",
    "from sklearn.metrics import classification_report, confusion_matrix\n",
    "import seaborn as sns\n",
    "import tensorflow as tf\n",
    "import sys\n",
    "from tensorflow.keras.utils import to_categorical\n",
    "from tensorflow.keras.models import Sequential\n",
    "from tensorflow.keras.layers import LSTM, Dense, Dropout, Conv1D, BatchNormalization, ReLU, GlobalAveragePooling1D, MaxPooling1D \n",
    "from tensorflow.keras.optimizers import Adam\n",
    "from tensorflow.keras import layers, models\n",
    "\n",
    "# WindowSize            : 10(0.8565), 20(0.9240), 30(0.9488), 40(0.9584), 50(0.9636)\n",
    "# Epoch(window=20)      : 20(0.9448), 30(0.9564)\n",
    "\n",
    "# {Mode, windowSize, Stride, Epoch} \n",
    "# LSTM : {3, 20, 1, 20} -> 0.9573, {4, 20, 1, 20} -> 0.9606, {4, 10, 1, 20} -> 0.9500, {4, 30, 1, 20} -> 0.9685, {3, 30, 10, 20} -> 0.9303 (Not Bad!!, 학습빠름)\n",
    "# LSTM + CNN : {3, 50, 5, 20} -> 0.9550(결과 Good), {3, 50, 1, 20} -> 0.9721, {3, 30, 1, 20} -> 0.9606, {3, 20, 1, 20} -> 별로임, {3, 40, 1, 20} -> 0.9668, {3, 50, 1, 20} -> 0.9723(결과 별로임)\n",
    "\n",
    "\n",
    "# MODE = 0            # ALL_LABEL_ALL_SENSOR\n",
    "# MODE = 1            # ALL_LABEL_LOWER_SENSOR\n",
    "# MODE = 2            # ALL_LABEL_UPPER_SENSOR\n",
    "MODE = 3            # Transient_LABEL_ALL_SENSOR\n",
    "# MODE = 4            # Transient_LABEL_ALL_SENSOR_NO_STOPWALKING\n",
    "# MODE = 5            # Transient_LABEL_LOWER_SENSOR\n",
    "# MODE = 6            # Transient_LABEL_UPPER_SENSOR\n",
    "# MODE = 7            # Add \"Start Walking\" \n",
    "\n",
    "# Model = 0           # LSTM  (0.9333)\n",
    "# Model = 1           # CNN (0.9120)\n",
    "# Model = 2           # TCN (0.9133)\n",
    "# Model = 3           # LSTM + CNN (0.9593)\n",
    "Model = 4           # CNN + LSTM \n",
    "# Model = 5           # Transformer\n",
    "\n",
    "\n",
    "folder_paths = ['../Data/data_250612', '../Data/data_250616', '../Data/data_250618']\n",
    "all_trials = []\n",
    "\n",
    "for folder_path in folder_paths:\n",
    "    trials = Load_files(folder_path, pattern='cropped_*.h5')\n",
    "    trials = [trial for trial in trials if 'test' not in trial['file']]     # Temporary remove Test set\n",
    "    all_trials.extend(trials)\n",
    "\n",
    "## Labeling ##\n",
    "for trial in all_trials:\n",
    "    trial['label'] = Generate_labels(trial)\n",
    "    Convert_labels_to_int(trial, phase_to_int)\n",
    "\n",
    "## EMG filtering ##\n",
    "all_trials = process_all_emg(all_trials, lpf_fc=3, norm_method='max')\n",
    "\n",
    "trial_num = len(all_trials)\n",
    "print(f\"Total trials: {trial_num}\")"
   ]
  }
 ],
 "metadata": {
  "language_info": {
   "name": "python"
  }
 },
 "nbformat": 4,
 "nbformat_minor": 5
}
